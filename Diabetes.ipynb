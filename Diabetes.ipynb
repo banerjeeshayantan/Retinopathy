{
 "cells": [
  {
   "cell_type": "code",
   "execution_count": 1,
   "metadata": {},
   "outputs": [
    {
     "name": "stderr",
     "output_type": "stream",
     "text": [
      "Using TensorFlow backend.\n",
      "/home/shayantan/miniconda3/lib/python3.6/site-packages/tensorflow/python/framework/dtypes.py:526: FutureWarning: Passing (type, 1) or '1type' as a synonym of type is deprecated; in a future version of numpy, it will be understood as (type, (1,)) / '(1,)type'.\n",
      "  _np_qint8 = np.dtype([(\"qint8\", np.int8, 1)])\n",
      "/home/shayantan/miniconda3/lib/python3.6/site-packages/tensorflow/python/framework/dtypes.py:527: FutureWarning: Passing (type, 1) or '1type' as a synonym of type is deprecated; in a future version of numpy, it will be understood as (type, (1,)) / '(1,)type'.\n",
      "  _np_quint8 = np.dtype([(\"quint8\", np.uint8, 1)])\n",
      "/home/shayantan/miniconda3/lib/python3.6/site-packages/tensorflow/python/framework/dtypes.py:528: FutureWarning: Passing (type, 1) or '1type' as a synonym of type is deprecated; in a future version of numpy, it will be understood as (type, (1,)) / '(1,)type'.\n",
      "  _np_qint16 = np.dtype([(\"qint16\", np.int16, 1)])\n",
      "/home/shayantan/miniconda3/lib/python3.6/site-packages/tensorflow/python/framework/dtypes.py:529: FutureWarning: Passing (type, 1) or '1type' as a synonym of type is deprecated; in a future version of numpy, it will be understood as (type, (1,)) / '(1,)type'.\n",
      "  _np_quint16 = np.dtype([(\"quint16\", np.uint16, 1)])\n",
      "/home/shayantan/miniconda3/lib/python3.6/site-packages/tensorflow/python/framework/dtypes.py:530: FutureWarning: Passing (type, 1) or '1type' as a synonym of type is deprecated; in a future version of numpy, it will be understood as (type, (1,)) / '(1,)type'.\n",
      "  _np_qint32 = np.dtype([(\"qint32\", np.int32, 1)])\n",
      "/home/shayantan/miniconda3/lib/python3.6/site-packages/tensorflow/python/framework/dtypes.py:535: FutureWarning: Passing (type, 1) or '1type' as a synonym of type is deprecated; in a future version of numpy, it will be understood as (type, (1,)) / '(1,)type'.\n",
      "  np_resource = np.dtype([(\"resource\", np.ubyte, 1)])\n"
     ]
    }
   ],
   "source": [
    "import pandas as pd\n",
    "from sklearn.preprocessing import Imputer\n",
    "import numpy as np\n",
    "from sklearn.ensemble import RandomForestClassifier\n",
    "from sklearn.model_selection import GridSearchCV\n",
    "from sklearn.model_selection import train_test_split\n",
    "from sklearn.metrics import accuracy_score\n",
    "import matplotlib.pyplot as plt\n",
    "from sklearn.feature_selection import SelectFromModel\n",
    "from sklearn.ensemble import ExtraTreesClassifier\n",
    "from sklearn.ensemble import GradientBoostingClassifier\n",
    "from sklearn.ensemble import AdaBoostClassifier\n",
    "from sklearn.tree import DecisionTreeClassifier\n",
    "from sklearn.linear_model import LogisticRegression\n",
    "from sklearn.naive_bayes import MultinomialNB\n",
    "from sklearn.naive_bayes import GaussianNB\n",
    "from sklearn.svm import LinearSVC, SVC\n",
    "from sklearn import metrics\n",
    "from sklearn.neighbors import KNeighborsClassifier\n",
    "from sklearn.model_selection import cross_val_score\n",
    "from sklearn.model_selection import cross_validate\n",
    "from sklearn.model_selection import GridSearchCV\n",
    "from sklearn.ensemble import RandomForestClassifier, VotingClassifier\n",
    "from sklearn import preprocessing\n",
    "from sklearn.preprocessing import MinMaxScaler\n",
    "import pickle\n",
    "from sklearn.metrics import confusion_matrix\n",
    "from sklearn.utils import resample\n",
    "from imblearn.over_sampling import SMOTE\n",
    "from sklearn.metrics import classification_report\n",
    "from sklearn import metrics\n",
    "from sklearn.metrics import roc_curve, auc\n",
    "from sklearn.metrics import roc_auc_score\n",
    "from sklearn.model_selection import cross_val_predict\n",
    "from sklearn.model_selection import StratifiedKFold\n",
    "import numpy as np\n",
    "from sklearn.ensemble import RandomForestClassifier\n",
    "from sklearn import datasets\n",
    "from sklearn.model_selection import train_test_split\n",
    "from sklearn.feature_selection import SelectFromModel\n",
    "from sklearn.metrics import accuracy_score\n",
    "from sklearn.feature_selection import RFECV\n",
    "from sklearn.discriminant_analysis import LinearDiscriminantAnalysis\n",
    "from sklearn.discriminant_analysis import QuadraticDiscriminantAnalysis\n",
    "import scipy.stats as ss\n",
    "import itertools\n",
    "from sklearn.metrics import fbeta_score, make_scorer\n",
    "from sklearn.manifold import TSNE\n",
    "from sklearn.multiclass import OneVsRestClassifier\n",
    "from sklearn.model_selection import LeaveOneOut\n",
    "import mifs\n",
    "from sklearn.preprocessing import StandardScaler\n",
    "from sklearn.model_selection import KFold\n",
    "import scipy\n",
    "import numpy as np, scipy.stats as st\n",
    "from sklearn.model_selection import RepeatedStratifiedKFold\n",
    "from sklearn.neural_network import MLPClassifier\n",
    "from scipy import interp\n",
    "from collections import Counter\n",
    "# import warnings filter\n",
    "from warnings import simplefilter\n",
    "from imblearn.over_sampling import RandomOverSampler\n",
    "from imblearn.under_sampling import RandomUnderSampler\n",
    "# ignore all future warnings\n",
    "simplefilter(action='ignore', category=FutureWarning)\n",
    "from sklearn.neighbors import KNeighborsClassifier\n",
    "from sklearn.ensemble import BaggingClassifier\n",
    "from sklearn.metrics import balanced_accuracy_score\n",
    "\n",
    "from imblearn.ensemble import BalancedBaggingClassifier\n",
    "from imblearn.ensemble import BalancedRandomForestClassifier\n",
    "from imblearn.ensemble import EasyEnsembleClassifier\n",
    "from imblearn.ensemble import RUSBoostClassifier\n",
    "from imblearn.metrics import geometric_mean_score"
   ]
  },
  {
   "cell_type": "code",
   "execution_count": 2,
   "metadata": {},
   "outputs": [],
   "source": [
    "dat=pd.read_table('Diabetes.txt')"
   ]
  },
  {
   "cell_type": "code",
   "execution_count": 3,
   "metadata": {},
   "outputs": [
    {
     "data": {
      "text/plain": [
       "(86454, 9)"
      ]
     },
     "execution_count": 3,
     "metadata": {},
     "output_type": "execute_result"
    }
   ],
   "source": [
    "dat.shape"
   ]
  },
  {
   "cell_type": "code",
   "execution_count": 4,
   "metadata": {},
   "outputs": [
    {
     "data": {
      "text/html": [
       "<div>\n",
       "<style scoped>\n",
       "    .dataframe tbody tr th:only-of-type {\n",
       "        vertical-align: middle;\n",
       "    }\n",
       "\n",
       "    .dataframe tbody tr th {\n",
       "        vertical-align: top;\n",
       "    }\n",
       "\n",
       "    .dataframe thead th {\n",
       "        text-align: right;\n",
       "    }\n",
       "</style>\n",
       "<table border=\"1\" class=\"dataframe\">\n",
       "  <thead>\n",
       "    <tr style=\"text-align: right;\">\n",
       "      <th></th>\n",
       "      <th>Diabetes</th>\n",
       "      <th>Retinopathy</th>\n",
       "      <th>BMI</th>\n",
       "      <th>Waist.Circumference</th>\n",
       "      <th>Gender</th>\n",
       "      <th>Age</th>\n",
       "      <th>Ethnicity</th>\n",
       "      <th>Education.adult.</th>\n",
       "      <th>Marital.Status</th>\n",
       "    </tr>\n",
       "  </thead>\n",
       "  <tbody>\n",
       "    <tr>\n",
       "      <th>0</th>\n",
       "      <td>2</td>\n",
       "      <td>2</td>\n",
       "      <td>14.90</td>\n",
       "      <td>45.7</td>\n",
       "      <td>2</td>\n",
       "      <td>2</td>\n",
       "      <td>4</td>\n",
       "      <td>3</td>\n",
       "      <td>5</td>\n",
       "    </tr>\n",
       "    <tr>\n",
       "      <th>1</th>\n",
       "      <td>2</td>\n",
       "      <td>2</td>\n",
       "      <td>24.90</td>\n",
       "      <td>98.0</td>\n",
       "      <td>1</td>\n",
       "      <td>77</td>\n",
       "      <td>3</td>\n",
       "      <td>5</td>\n",
       "      <td>1</td>\n",
       "    </tr>\n",
       "    <tr>\n",
       "      <th>2</th>\n",
       "      <td>2</td>\n",
       "      <td>2</td>\n",
       "      <td>17.63</td>\n",
       "      <td>64.7</td>\n",
       "      <td>2</td>\n",
       "      <td>10</td>\n",
       "      <td>3</td>\n",
       "      <td>5</td>\n",
       "      <td>5</td>\n",
       "    </tr>\n",
       "  </tbody>\n",
       "</table>\n",
       "</div>"
      ],
      "text/plain": [
       "   Diabetes  Retinopathy    BMI  Waist.Circumference  Gender  Age  Ethnicity  \\\n",
       "0         2            2  14.90                 45.7       2    2          4   \n",
       "1         2            2  24.90                 98.0       1   77          3   \n",
       "2         2            2  17.63                 64.7       2   10          3   \n",
       "\n",
       "   Education.adult.  Marital.Status  \n",
       "0                 3               5  \n",
       "1                 5               1  \n",
       "2                 5               5  "
      ]
     },
     "execution_count": 4,
     "metadata": {},
     "output_type": "execute_result"
    }
   ],
   "source": [
    "dat.head(3)"
   ]
  },
  {
   "cell_type": "code",
   "execution_count": 5,
   "metadata": {},
   "outputs": [],
   "source": [
    "dat=pd.get_dummies(dat,columns=['Gender','Ethnicity','Education.adult.','Marital.Status','Retinopathy'])"
   ]
  },
  {
   "cell_type": "code",
   "execution_count": 6,
   "metadata": {},
   "outputs": [
    {
     "data": {
      "text/plain": [
       "(86454, 29)"
      ]
     },
     "execution_count": 6,
     "metadata": {},
     "output_type": "execute_result"
    }
   ],
   "source": [
    "dat.shape"
   ]
  },
  {
   "cell_type": "code",
   "execution_count": 7,
   "metadata": {},
   "outputs": [],
   "source": [
    "dat.Diabetes=dat.Diabetes.astype('category')\n",
    "x=dat.drop('Diabetes',axis=1)\n",
    "y=dat.Diabetes"
   ]
  },
  {
   "cell_type": "code",
   "execution_count": 8,
   "metadata": {},
   "outputs": [
    {
     "data": {
      "text/html": [
       "<div>\n",
       "<style scoped>\n",
       "    .dataframe tbody tr th:only-of-type {\n",
       "        vertical-align: middle;\n",
       "    }\n",
       "\n",
       "    .dataframe tbody tr th {\n",
       "        vertical-align: top;\n",
       "    }\n",
       "\n",
       "    .dataframe thead th {\n",
       "        text-align: right;\n",
       "    }\n",
       "</style>\n",
       "<table border=\"1\" class=\"dataframe\">\n",
       "  <thead>\n",
       "    <tr style=\"text-align: right;\">\n",
       "      <th></th>\n",
       "      <th>BMI</th>\n",
       "      <th>Waist.Circumference</th>\n",
       "      <th>Age</th>\n",
       "      <th>Gender_1</th>\n",
       "      <th>Gender_2</th>\n",
       "      <th>Ethnicity_1</th>\n",
       "      <th>Ethnicity_2</th>\n",
       "      <th>Ethnicity_3</th>\n",
       "      <th>Ethnicity_4</th>\n",
       "      <th>Ethnicity_5</th>\n",
       "      <th>...</th>\n",
       "      <th>Marital.Status_2</th>\n",
       "      <th>Marital.Status_3</th>\n",
       "      <th>Marital.Status_4</th>\n",
       "      <th>Marital.Status_5</th>\n",
       "      <th>Marital.Status_6</th>\n",
       "      <th>Marital.Status_77</th>\n",
       "      <th>Marital.Status_99</th>\n",
       "      <th>Retinopathy_2</th>\n",
       "      <th>Retinopathy_7</th>\n",
       "      <th>Retinopathy_9</th>\n",
       "    </tr>\n",
       "  </thead>\n",
       "  <tbody>\n",
       "    <tr>\n",
       "      <th>0</th>\n",
       "      <td>14.90</td>\n",
       "      <td>45.7</td>\n",
       "      <td>2</td>\n",
       "      <td>0</td>\n",
       "      <td>1</td>\n",
       "      <td>0</td>\n",
       "      <td>0</td>\n",
       "      <td>0</td>\n",
       "      <td>1</td>\n",
       "      <td>0</td>\n",
       "      <td>...</td>\n",
       "      <td>0</td>\n",
       "      <td>0</td>\n",
       "      <td>0</td>\n",
       "      <td>1</td>\n",
       "      <td>0</td>\n",
       "      <td>0</td>\n",
       "      <td>0</td>\n",
       "      <td>1</td>\n",
       "      <td>0</td>\n",
       "      <td>0</td>\n",
       "    </tr>\n",
       "    <tr>\n",
       "      <th>1</th>\n",
       "      <td>24.90</td>\n",
       "      <td>98.0</td>\n",
       "      <td>77</td>\n",
       "      <td>1</td>\n",
       "      <td>0</td>\n",
       "      <td>0</td>\n",
       "      <td>0</td>\n",
       "      <td>1</td>\n",
       "      <td>0</td>\n",
       "      <td>0</td>\n",
       "      <td>...</td>\n",
       "      <td>0</td>\n",
       "      <td>0</td>\n",
       "      <td>0</td>\n",
       "      <td>0</td>\n",
       "      <td>0</td>\n",
       "      <td>0</td>\n",
       "      <td>0</td>\n",
       "      <td>1</td>\n",
       "      <td>0</td>\n",
       "      <td>0</td>\n",
       "    </tr>\n",
       "    <tr>\n",
       "      <th>2</th>\n",
       "      <td>17.63</td>\n",
       "      <td>64.7</td>\n",
       "      <td>10</td>\n",
       "      <td>0</td>\n",
       "      <td>1</td>\n",
       "      <td>0</td>\n",
       "      <td>0</td>\n",
       "      <td>1</td>\n",
       "      <td>0</td>\n",
       "      <td>0</td>\n",
       "      <td>...</td>\n",
       "      <td>0</td>\n",
       "      <td>0</td>\n",
       "      <td>0</td>\n",
       "      <td>1</td>\n",
       "      <td>0</td>\n",
       "      <td>0</td>\n",
       "      <td>0</td>\n",
       "      <td>1</td>\n",
       "      <td>0</td>\n",
       "      <td>0</td>\n",
       "    </tr>\n",
       "  </tbody>\n",
       "</table>\n",
       "<p>3 rows × 28 columns</p>\n",
       "</div>"
      ],
      "text/plain": [
       "     BMI  Waist.Circumference  Age  Gender_1  Gender_2  Ethnicity_1  \\\n",
       "0  14.90                 45.7    2         0         1            0   \n",
       "1  24.90                 98.0   77         1         0            0   \n",
       "2  17.63                 64.7   10         0         1            0   \n",
       "\n",
       "   Ethnicity_2  Ethnicity_3  Ethnicity_4  Ethnicity_5  ...  Marital.Status_2  \\\n",
       "0            0            0            1            0  ...                 0   \n",
       "1            0            1            0            0  ...                 0   \n",
       "2            0            1            0            0  ...                 0   \n",
       "\n",
       "   Marital.Status_3  Marital.Status_4  Marital.Status_5  Marital.Status_6  \\\n",
       "0                 0                 0                 1                 0   \n",
       "1                 0                 0                 0                 0   \n",
       "2                 0                 0                 1                 0   \n",
       "\n",
       "   Marital.Status_77  Marital.Status_99  Retinopathy_2  Retinopathy_7  \\\n",
       "0                  0                  0              1              0   \n",
       "1                  0                  0              1              0   \n",
       "2                  0                  0              1              0   \n",
       "\n",
       "   Retinopathy_9  \n",
       "0              0  \n",
       "1              0  \n",
       "2              0  \n",
       "\n",
       "[3 rows x 28 columns]"
      ]
     },
     "execution_count": 8,
     "metadata": {},
     "output_type": "execute_result"
    }
   ],
   "source": [
    "x.head(3)"
   ]
  },
  {
   "cell_type": "code",
   "execution_count": null,
   "metadata": {},
   "outputs": [],
   "source": []
  },
  {
   "cell_type": "code",
   "execution_count": 9,
   "metadata": {},
   "outputs": [
    {
     "data": {
      "text/plain": [
       "2    80924\n",
       "1     5530\n",
       "Name: Diabetes, dtype: int64"
      ]
     },
     "execution_count": 9,
     "metadata": {},
     "output_type": "execute_result"
    }
   ],
   "source": [
    "y.value_counts()"
   ]
  },
  {
   "cell_type": "code",
   "execution_count": 10,
   "metadata": {},
   "outputs": [],
   "source": [
    "#removing outliers\n",
    "potential_outliers = []\n",
    "from collections import Counter\n",
    "from IPython.display import display\n",
    "\n",
    "# For each feature find the data points with extreme high or low values\n",
    "for feature in x.keys():\n",
    "\n",
    "    # Calculate Q1\n",
    "    Q1 = np.percentile(x[feature], 25)\n",
    "    \n",
    "    # Calculate Q3\n",
    "    Q3 = np.percentile(x[feature], 75)\n",
    "    \n",
    "    step = 1.5*(Q3-Q1)\n",
    "    \n",
    "    # Display the outliers\n",
    "    outlier = x[~((x[feature] >= Q1 - step) & (x[feature] <= Q3 + step))]\n",
    "    potential_outliers += outlier.index.tolist()\n",
    "    \n",
    "# print Counter(potential_outliers)\n",
    "# len({k:v for (k,v) in Counter(potential_outliers).items() if v > 4})\n",
    "outliers = [k for (k,v) in Counter(potential_outliers).items() if v > 4]"
   ]
  },
  {
   "cell_type": "code",
   "execution_count": 11,
   "metadata": {},
   "outputs": [],
   "source": [
    "vital_patient_info = x[~x.index.isin(outliers)]\n",
    "y_lab=y[~y.index.isin(outliers)]"
   ]
  },
  {
   "cell_type": "code",
   "execution_count": 12,
   "metadata": {},
   "outputs": [
    {
     "data": {
      "text/plain": [
       "(86428, 28)"
      ]
     },
     "execution_count": 12,
     "metadata": {},
     "output_type": "execute_result"
    }
   ],
   "source": [
    "vital_patient_info.shape"
   ]
  },
  {
   "cell_type": "code",
   "execution_count": 13,
   "metadata": {},
   "outputs": [],
   "source": [
    "#splitting into train/test\n",
    "X_train, X_test, y_train, y_test = train_test_split(vital_patient_info, y_lab, test_size=0.3, random_state=42, stratify=y_lab)"
   ]
  },
  {
   "cell_type": "code",
   "execution_count": 16,
   "metadata": {},
   "outputs": [],
   "source": [
    "scaler = MinMaxScaler()\n",
    "X_train_scaled = pd.DataFrame(scaler.fit_transform(X_train),columns = X_train.columns)\n",
    "X_test_scaled = pd.DataFrame(scaler.fit_transform(X_test),columns = X_test.columns)"
   ]
  },
  {
   "cell_type": "markdown",
   "metadata": {},
   "source": [
    "### Model building using classifiers\n",
    "### 1. SVM\n",
    "### 2. Decision trees\n",
    "### 3. Random forests\n",
    "### 4. Logistic regression\n",
    "### 5. Multilayer perceptron"
   ]
  },
  {
   "cell_type": "markdown",
   "metadata": {},
   "source": [
    "### Tuning the parameters on the training data"
   ]
  },
  {
   "cell_type": "code",
   "execution_count": 35,
   "metadata": {},
   "outputs": [
    {
     "name": "stdout",
     "output_type": "stream",
     "text": [
      "SVM params\n",
      "\n",
      "{'C': 0.1, 'gamma': 1, 'kernel': 'linear'}\n"
     ]
    }
   ],
   "source": [
    "#SVM\n",
    "#tuning parameters for SVM\n",
    "param_grid = {'C': [0.1, 1, 10, 100, 1000],  \n",
    "              'gamma': [1, 0.1, 0.01, 0.001, 0.0001], \n",
    "              'kernel': ['rbf','linear']}  \n",
    "  \n",
    "grid_svm = GridSearchCV(SVC(), param_grid,cv=3) \n",
    "  \n",
    "# fitting the model for grid search \n",
    "svm=grid_svm.fit(X_train_scaled, y_train) \n",
    "print('SVM params\\n')\n",
    "print(svm.best_params_)\n"
   ]
  },
  {
   "cell_type": "code",
   "execution_count": 36,
   "metadata": {},
   "outputs": [
    {
     "name": "stdout",
     "output_type": "stream",
     "text": [
      "RF smote params\n",
      "\n",
      "{'bootstrap': True, 'max_depth': 80, 'max_features': 3, 'min_samples_leaf': 4, 'min_samples_split': 10, 'n_estimators': 200}\n"
     ]
    }
   ],
   "source": [
    "#RF\n",
    "param_grid = {\n",
    "    'bootstrap': [True],\n",
    "    'max_depth': [80, 90, 100, 110],\n",
    "    'max_features': [2, 3],\n",
    "    'min_samples_leaf': [3, 4, 5],\n",
    "    'min_samples_split': [8, 10, 12],\n",
    "    'n_estimators': [100, 200, 300, 1000]\n",
    "}\n",
    "grid_rf = GridSearchCV(RandomForestClassifier(), param_grid,cv=3) \n",
    "rf=grid_rf.fit(X_train_scaled, y_train) \n",
    "print('RF smote params\\n')\n",
    "print(rf.best_params_)\n",
    "\n"
   ]
  },
  {
   "cell_type": "code",
   "execution_count": 37,
   "metadata": {},
   "outputs": [
    {
     "name": "stdout",
     "output_type": "stream",
     "text": [
      "Logit ros params\n",
      "\n",
      "{'C': 1.0, 'penalty': 'l2'}\n"
     ]
    }
   ],
   "source": [
    "# Logit\n",
    "penalty = ['l1', 'l2']\n",
    "\n",
    "# Create regularization hyperparameter space\n",
    "C = np.logspace(0, 4, 10)\n",
    "\n",
    "# Create hyperparameter options\n",
    "hyperparameters = dict(C=C, penalty=penalty)\n",
    "grid_lr = GridSearchCV(LogisticRegression(), hyperparameters)\n",
    "lr_sm=grid_lr.fit(X_train_scaled, y_train) \n",
    "print('Logit ros params\\n')\n",
    "print(lr_sm.best_params_)\n"
   ]
  },
  {
   "cell_type": "code",
   "execution_count": 38,
   "metadata": {},
   "outputs": [
    {
     "name": "stdout",
     "output_type": "stream",
     "text": [
      "DT params\n",
      "\n",
      "{'max_depth': 19, 'min_samples_split': 10}\n"
     ]
    }
   ],
   "source": [
    "#DT\n",
    "parameters={'min_samples_split' : range(10,500,20),'max_depth': range(1,20,2)}\n",
    "grid_dt = GridSearchCV(DecisionTreeClassifier(class_weight='balanced'), parameters)\n",
    "dt_ros=grid_dt.fit(X_train_scaled,y_train)\n",
    "print('DT params\\n')\n",
    "print(dt_ros.best_params_)"
   ]
  },
  {
   "cell_type": "code",
   "execution_count": 39,
   "metadata": {},
   "outputs": [
    {
     "name": "stderr",
     "output_type": "stream",
     "text": [
      "/home/shayantan/miniconda3/lib/python3.6/site-packages/sklearn/neural_network/multilayer_perceptron.py:566: ConvergenceWarning: Stochastic Optimizer: Maximum iterations (200) reached and the optimization hasn't converged yet.\n",
      "  % self.max_iter, ConvergenceWarning)\n",
      "/home/shayantan/miniconda3/lib/python3.6/site-packages/sklearn/neural_network/multilayer_perceptron.py:566: ConvergenceWarning: Stochastic Optimizer: Maximum iterations (200) reached and the optimization hasn't converged yet.\n",
      "  % self.max_iter, ConvergenceWarning)\n",
      "/home/shayantan/miniconda3/lib/python3.6/site-packages/sklearn/neural_network/multilayer_perceptron.py:566: ConvergenceWarning: Stochastic Optimizer: Maximum iterations (200) reached and the optimization hasn't converged yet.\n",
      "  % self.max_iter, ConvergenceWarning)\n",
      "/home/shayantan/miniconda3/lib/python3.6/site-packages/sklearn/neural_network/multilayer_perceptron.py:566: ConvergenceWarning: Stochastic Optimizer: Maximum iterations (200) reached and the optimization hasn't converged yet.\n",
      "  % self.max_iter, ConvergenceWarning)\n",
      "/home/shayantan/miniconda3/lib/python3.6/site-packages/sklearn/neural_network/multilayer_perceptron.py:566: ConvergenceWarning: Stochastic Optimizer: Maximum iterations (200) reached and the optimization hasn't converged yet.\n",
      "  % self.max_iter, ConvergenceWarning)\n",
      "/home/shayantan/miniconda3/lib/python3.6/site-packages/sklearn/neural_network/multilayer_perceptron.py:566: ConvergenceWarning: Stochastic Optimizer: Maximum iterations (200) reached and the optimization hasn't converged yet.\n",
      "  % self.max_iter, ConvergenceWarning)\n",
      "/home/shayantan/miniconda3/lib/python3.6/site-packages/sklearn/neural_network/multilayer_perceptron.py:566: ConvergenceWarning: Stochastic Optimizer: Maximum iterations (200) reached and the optimization hasn't converged yet.\n",
      "  % self.max_iter, ConvergenceWarning)\n",
      "/home/shayantan/miniconda3/lib/python3.6/site-packages/sklearn/neural_network/multilayer_perceptron.py:566: ConvergenceWarning: Stochastic Optimizer: Maximum iterations (200) reached and the optimization hasn't converged yet.\n",
      "  % self.max_iter, ConvergenceWarning)\n",
      "/home/shayantan/miniconda3/lib/python3.6/site-packages/sklearn/neural_network/multilayer_perceptron.py:566: ConvergenceWarning: Stochastic Optimizer: Maximum iterations (200) reached and the optimization hasn't converged yet.\n",
      "  % self.max_iter, ConvergenceWarning)\n",
      "/home/shayantan/miniconda3/lib/python3.6/site-packages/sklearn/neural_network/multilayer_perceptron.py:566: ConvergenceWarning: Stochastic Optimizer: Maximum iterations (200) reached and the optimization hasn't converged yet.\n",
      "  % self.max_iter, ConvergenceWarning)\n",
      "/home/shayantan/miniconda3/lib/python3.6/site-packages/sklearn/neural_network/multilayer_perceptron.py:566: ConvergenceWarning: Stochastic Optimizer: Maximum iterations (200) reached and the optimization hasn't converged yet.\n",
      "  % self.max_iter, ConvergenceWarning)\n",
      "/home/shayantan/miniconda3/lib/python3.6/site-packages/sklearn/neural_network/multilayer_perceptron.py:566: ConvergenceWarning: Stochastic Optimizer: Maximum iterations (200) reached and the optimization hasn't converged yet.\n",
      "  % self.max_iter, ConvergenceWarning)\n",
      "/home/shayantan/miniconda3/lib/python3.6/site-packages/sklearn/neural_network/multilayer_perceptron.py:566: ConvergenceWarning: Stochastic Optimizer: Maximum iterations (200) reached and the optimization hasn't converged yet.\n",
      "  % self.max_iter, ConvergenceWarning)\n",
      "/home/shayantan/miniconda3/lib/python3.6/site-packages/sklearn/neural_network/multilayer_perceptron.py:566: ConvergenceWarning: Stochastic Optimizer: Maximum iterations (200) reached and the optimization hasn't converged yet.\n",
      "  % self.max_iter, ConvergenceWarning)\n",
      "/home/shayantan/miniconda3/lib/python3.6/site-packages/sklearn/neural_network/multilayer_perceptron.py:566: ConvergenceWarning: Stochastic Optimizer: Maximum iterations (200) reached and the optimization hasn't converged yet.\n",
      "  % self.max_iter, ConvergenceWarning)\n",
      "/home/shayantan/miniconda3/lib/python3.6/site-packages/sklearn/neural_network/multilayer_perceptron.py:566: ConvergenceWarning: Stochastic Optimizer: Maximum iterations (200) reached and the optimization hasn't converged yet.\n",
      "  % self.max_iter, ConvergenceWarning)\n",
      "/home/shayantan/miniconda3/lib/python3.6/site-packages/sklearn/neural_network/multilayer_perceptron.py:566: ConvergenceWarning: Stochastic Optimizer: Maximum iterations (200) reached and the optimization hasn't converged yet.\n",
      "  % self.max_iter, ConvergenceWarning)\n"
     ]
    },
    {
     "name": "stdout",
     "output_type": "stream",
     "text": [
      "MLP smote params\n",
      "\n",
      "{'activation': 'tanh', 'alpha': 0.05, 'hidden_layer_sizes': (100,), 'learning_rate': 'adaptive', 'solver': 'sgd'}\n"
     ]
    }
   ],
   "source": [
    "#Multilayer perceptron\n",
    "parameter_space = {\n",
    "    'hidden_layer_sizes': [(50,50), (50,100), (100,)],\n",
    "    'activation': ['tanh', 'relu'],\n",
    "    'solver': ['sgd', 'adam'],\n",
    "    'alpha': [0.0001, 0.05],\n",
    "    'learning_rate': ['constant','adaptive'],\n",
    "}\n",
    "grid_mlp = GridSearchCV(MLPClassifier(), parameter_space)\n",
    "mlp_sm=grid_mlp.fit(X_train_scaled,y_train)\n",
    "print('MLP smote params\\n')\n",
    "print(mlp_sm.best_params_)\n"
   ]
  },
  {
   "cell_type": "markdown",
   "metadata": {},
   "source": [
    "### Training the classifiers on the data with the tuned parameters"
   ]
  },
  {
   "cell_type": "code",
   "execution_count": 47,
   "metadata": {},
   "outputs": [
    {
     "name": "stdout",
     "output_type": "stream",
     "text": [
      "Classifier  SVC(C=0.1, cache_size=200, class_weight=None, coef0=0.0,\n",
      "    decision_function_shape='ovr', degree=3, gamma=1, kernel='linear',\n",
      "    max_iter=-1, probability=True, random_state=None, shrinking=True, tol=0.001,\n",
      "    verbose=False)\n",
      "              precision    recall  f1-score   support\n",
      "\n",
      "           1       1.00      0.01      0.02      1655\n",
      "           2       0.94      1.00      0.97     24274\n",
      "\n",
      "    accuracy                           0.94     25929\n",
      "   macro avg       0.97      0.50      0.49     25929\n",
      "weighted avg       0.94      0.94      0.91     25929\n",
      "\n",
      "Classifier  RandomForestClassifier(bootstrap=True, class_weight=None, criterion='gini',\n",
      "                       max_depth=80, max_features=3, max_leaf_nodes=None,\n",
      "                       min_impurity_decrease=0.0, min_impurity_split=None,\n",
      "                       min_samples_leaf=4, min_samples_split=10,\n",
      "                       min_weight_fraction_leaf=0.0, n_estimators=200,\n",
      "                       n_jobs=None, oob_score=False, random_state=None,\n",
      "                       verbose=0, warm_start=False)\n",
      "              precision    recall  f1-score   support\n",
      "\n",
      "           1       0.67      0.02      0.03      1655\n",
      "           2       0.94      1.00      0.97     24274\n",
      "\n",
      "    accuracy                           0.94     25929\n",
      "   macro avg       0.80      0.51      0.50     25929\n",
      "weighted avg       0.92      0.94      0.91     25929\n",
      "\n",
      "Classifier  LogisticRegression(C=1, class_weight=None, dual=False, fit_intercept=True,\n",
      "                   intercept_scaling=1, l1_ratio=None, max_iter=100,\n",
      "                   multi_class='warn', n_jobs=None, penalty='l2',\n",
      "                   random_state=None, solver='warn', tol=0.0001, verbose=0,\n",
      "                   warm_start=False)\n",
      "              precision    recall  f1-score   support\n",
      "\n",
      "           1       0.51      0.04      0.08      1655\n",
      "           2       0.94      1.00      0.97     24274\n",
      "\n",
      "    accuracy                           0.94     25929\n",
      "   macro avg       0.72      0.52      0.52     25929\n",
      "weighted avg       0.91      0.94      0.91     25929\n",
      "\n",
      "Classifier  DecisionTreeClassifier(class_weight=None, criterion='gini', max_depth=19,\n",
      "                       max_features=None, max_leaf_nodes=None,\n",
      "                       min_impurity_decrease=0.0, min_impurity_split=None,\n",
      "                       min_samples_leaf=1, min_samples_split=10,\n",
      "                       min_weight_fraction_leaf=0.0, presort=False,\n",
      "                       random_state=None, splitter='best')\n",
      "              precision    recall  f1-score   support\n",
      "\n",
      "           1       0.22      0.18      0.20      1655\n",
      "           2       0.94      0.96      0.95     24274\n",
      "\n",
      "    accuracy                           0.91     25929\n",
      "   macro avg       0.58      0.57      0.57     25929\n",
      "weighted avg       0.90      0.91      0.90     25929\n",
      "\n",
      "Classifier  MLPClassifier(activation='tanh', alpha=0.05, batch_size='auto', beta_1=0.9,\n",
      "              beta_2=0.999, early_stopping=False, epsilon=1e-08,\n",
      "              hidden_layer_sizes=(100,), learning_rate='adaptive',\n",
      "              learning_rate_init=0.001, max_iter=200, momentum=0.9,\n",
      "              n_iter_no_change=10, nesterovs_momentum=True, power_t=0.5,\n",
      "              random_state=None, shuffle=True, solver='sgd', tol=0.0001,\n",
      "              validation_fraction=0.1, verbose=False, warm_start=False)\n",
      "              precision    recall  f1-score   support\n",
      "\n",
      "           1       0.60      0.02      0.05      1655\n",
      "           2       0.94      1.00      0.97     24274\n",
      "\n",
      "    accuracy                           0.94     25929\n",
      "   macro avg       0.77      0.51      0.51     25929\n",
      "weighted avg       0.92      0.94      0.91     25929\n",
      "\n"
     ]
    }
   ],
   "source": [
    "# Instantiate the classfiers and make a list\n",
    "classifiers = [ SVC(C= 0.1, gamma= 1, kernel= 'linear',probability=True),\n",
    "               RandomForestClassifier(bootstrap=True, max_depth=80, max_features=3, min_samples_leaf=4, min_samples_split=10, n_estimators=200),\n",
    "               LogisticRegression(C=1,penalty='l2'),\n",
    "               DecisionTreeClassifier(max_depth=19,min_samples_split=10),\n",
    "               MLPClassifier(activation='tanh',alpha=0.05,hidden_layer_sizes=(100,),learning_rate='adaptive',solver='sgd')\n",
    "               \n",
    "    \n",
    "]\n",
    "\n",
    "# Define a result table as a DataFrame\n",
    "result_table = pd.DataFrame(columns=['classifiers', 'fpr','tpr','auc'])\n",
    "# Train the models and record the results\n",
    "for cls in classifiers:\n",
    "    feat=[]\n",
    "    model = cls.fit(X_train_scaled, y_train)\n",
    "    print(\"Classifier \",cls)\n",
    "    print(classification_report(y_test,model.predict(X_test_scaled)))\n",
    "    yproba = model.predict_proba(X_test_scaled)[::,1]\n",
    "    \n",
    "    fpr, tpr, _ = roc_curve(y_test,  yproba,pos_label=2)\n",
    "    auc = roc_auc_score(y_test, yproba)\n",
    "    \n",
    "    result_table = result_table.append({'classifiers':cls.__class__.__name__,\n",
    "                                        'fpr':fpr, \n",
    "                                        'tpr':tpr, \n",
    "                                        'auc':auc}, ignore_index=True)\n",
    "    \n",
    "    \n",
    "result_table.set_index('classifiers', inplace=True)\n"
   ]
  },
  {
   "cell_type": "code",
   "execution_count": 48,
   "metadata": {},
   "outputs": [
    {
     "data": {
      "image/png": "[encoded data removed]",
      "text/plain": [
       "<Figure size 720x720 with 1 Axes>"
      ]
     },
     "metadata": {
      "needs_background": "light"
     },
     "output_type": "display_data"
    }
   ],
   "source": [
    "fig = plt.figure(figsize=(10,10))\n",
    "\n",
    "for i in result_table.index:\n",
    "    plt.plot(result_table.loc[i]['fpr'], \n",
    "             result_table.loc[i]['tpr'], \n",
    "             label=\"{}, AUC={:.3f}\".format(i, result_table.loc[i]['auc']))\n",
    "    \n",
    "plt.plot([0,1], [0,1], color='orange', linestyle='--')\n",
    "\n",
    "plt.xticks(np.arange(0.0, 1.1, step=0.1))\n",
    "plt.xlabel(\"Flase Positive Rate\", fontsize=15)\n",
    "\n",
    "plt.yticks(np.arange(0.0, 1.1, step=0.1))\n",
    "plt.ylabel(\"True Positive Rate\", fontsize=15)\n",
    "\n",
    "plt.title('ROC Curve Analysis', fontweight='bold', fontsize=15)\n",
    "plt.legend(prop={'size':13}, loc='lower right')\n",
    "\n",
    "plt.show()"
   ]
  },
  {
   "cell_type": "code",
   "execution_count": null,
   "metadata": {},
   "outputs": [],
   "source": []
  },
  {
   "cell_type": "code",
   "execution_count": null,
   "metadata": {},
   "outputs": [],
   "source": []
  },
  {
   "cell_type": "code",
   "execution_count": null,
   "metadata": {},
   "outputs": [],
   "source": []
  },
  {
   "cell_type": "markdown",
   "metadata": {},
   "source": [
    "## Ensemble methods:\n",
    "### 1. Bagging\n",
    "### 2. Balanced Bagging\n",
    "### 3. Balanced Random forest classifier\n",
    "### 4. Easy Ensemble classifier\n",
    "### 5. RUSBoost classifier\n",
    "### 6. AdaBoost\n",
    "### 7. Gradient Boost"
   ]
  },
  {
   "cell_type": "markdown",
   "metadata": {},
   "source": [
    "### _________"
   ]
  },
  {
   "cell_type": "markdown",
   "metadata": {},
   "source": [
    "### Tuning the classifiers"
   ]
  },
  {
   "cell_type": "code",
   "execution_count": 40,
   "metadata": {},
   "outputs": [
    {
     "name": "stdout",
     "output_type": "stream",
     "text": [
      "{'base_estimator__max_depth': 4, 'base_estimator__max_leaf_nodes': 15, 'n_estimators': 500}\n"
     ]
    }
   ],
   "source": [
    "#parameter tuning using training set for bagging \n",
    "params = {'n_estimators': [10,100,200,400,500], 'base_estimator__max_leaf_nodes':[10, 15], 'base_estimator__max_depth':[4, 5, 6]}\n",
    "dt = DecisionTreeClassifier()\n",
    "bc = BaggingClassifier(base_estimator=dt, oob_score=True, random_state=1)\n",
    "\n",
    "# Grid Search to determine best parameters\n",
    "bc_grid = GridSearchCV(estimator=bc, param_grid=params, scoring='roc_auc', cv=5, n_jobs=-1)\n",
    "bc_grid.fit(X_train_scaled, y_train)\n",
    "best_params = bc_grid.best_params_\n",
    "print(best_params)\n"
   ]
  },
  {
   "cell_type": "code",
   "execution_count": 41,
   "metadata": {},
   "outputs": [
    {
     "name": "stdout",
     "output_type": "stream",
     "text": [
      "{'base_estimator__max_depth': 6, 'base_estimator__max_leaf_nodes': 15, 'n_estimators': 400}\n"
     ]
    }
   ],
   "source": [
    "#parameter tuning using training set for balanced bagging \n",
    "params = {'n_estimators': [10,100,200,400,500], 'base_estimator__max_leaf_nodes':[10, 15], 'base_estimator__max_depth':[4, 5, 6]}\n",
    "dt = DecisionTreeClassifier()\n",
    "bbc = BalancedBaggingClassifier(base_estimator=dt, oob_score=True, random_state=1)\n",
    "\n",
    "# Grid Search to determine best parameters\n",
    "bbc_grid = GridSearchCV(estimator=bbc, param_grid=params, scoring='roc_auc', cv=5, n_jobs=-1)\n",
    "bbc_grid.fit(X_train_scaled, y_train)\n",
    "best_params = bbc_grid.best_params_\n",
    "print(best_params)"
   ]
  },
  {
   "cell_type": "code",
   "execution_count": 42,
   "metadata": {},
   "outputs": [
    {
     "name": "stdout",
     "output_type": "stream",
     "text": [
      "{'criterion': 'entropy', 'max_depth': 8, 'max_features': 'auto', 'n_estimators': 700}\n"
     ]
    }
   ],
   "source": [
    "#parameter tuning for random forests\n",
    "param_grid = { \n",
    "    'n_estimators': [100,200,300,500,700],\n",
    "    'max_features': ['auto', 'sqrt', 'log2'],\n",
    "    'max_depth' : [4,5,6,7,8],\n",
    "    'criterion' :['gini', 'entropy']\n",
    "}\n",
    "brc=BalancedRandomForestClassifier()\n",
    "\n",
    "# Grid Search to determine best parameters\n",
    "brc_grid = GridSearchCV(estimator=brc, param_grid=param_grid, scoring='roc_auc', cv=5, n_jobs=-1)\n",
    "brc_grid.fit(X_train_scaled, y_train)\n",
    "best_params = brc_grid.best_params_\n",
    "print(best_params)"
   ]
  },
  {
   "cell_type": "code",
   "execution_count": 43,
   "metadata": {},
   "outputs": [
    {
     "name": "stdout",
     "output_type": "stream",
     "text": [
      "{'base_estimator__max_depth': 6, 'base_estimator__max_leaf_nodes': 15, 'n_estimators': 500}\n"
     ]
    }
   ],
   "source": [
    "#parameter tuning using training set for Easy ensemble\n",
    "params = {'n_estimators': [10,100,200,400,500], 'base_estimator__max_leaf_nodes':[10, 15], 'base_estimator__max_depth':[4, 5, 6]}\n",
    "dt = DecisionTreeClassifier()\n",
    "ee = EasyEnsembleClassifier(base_estimator=dt, random_state=1) \n",
    "# Grid Search to determine best parameters\n",
    "eec_grid = GridSearchCV(estimator=ee, param_grid=params, scoring='roc_auc', cv=5, n_jobs=-1)\n",
    "eec_grid.fit(X_train_scaled, y_train)\n",
    "best_params = eec_grid.best_params_\n",
    "print(best_params)"
   ]
  },
  {
   "cell_type": "code",
   "execution_count": 44,
   "metadata": {},
   "outputs": [
    {
     "name": "stdout",
     "output_type": "stream",
     "text": [
      "{'base_estimator__max_depth': 6, 'base_estimator__max_leaf_nodes': 10, 'n_estimators': 10}\n"
     ]
    }
   ],
   "source": [
    "#parameter tuning using training set for RUSBOOST\n",
    "params = {'n_estimators': [10,100,200,400,500], 'base_estimator__max_leaf_nodes':[10, 15], 'base_estimator__max_depth':[4, 5, 6]}\n",
    "dt = DecisionTreeClassifier()\n",
    "rus = RUSBoostClassifier(base_estimator=dt, random_state=1) \n",
    "# Grid Search to determine best parameters\n",
    "rus_grid = GridSearchCV(estimator=rus, param_grid=params, scoring='roc_auc', cv=5, n_jobs=-1)\n",
    "rus_grid.fit(X_train_scaled, y_train)\n",
    "best_params = rus_grid.best_params_\n",
    "print(best_params)"
   ]
  },
  {
   "cell_type": "code",
   "execution_count": 45,
   "metadata": {},
   "outputs": [
    {
     "name": "stdout",
     "output_type": "stream",
     "text": [
      "{'n_estimators': 100}\n"
     ]
    }
   ],
   "source": [
    "#parameter tuning using training set for AdaBOOST\n",
    "\n",
    "param_grid = {\"n_estimators\": [100, 200, 300]\n",
    "              \n",
    "             }\n",
    "dt = DecisionTreeClassifier()\n",
    "ABC = AdaBoostClassifier(base_estimator=dt,random_state=1)\n",
    "# run grid search\n",
    "grid_search_ABC = GridSearchCV(ABC, param_grid=param_grid, scoring = 'roc_auc',cv=5)\n",
    "grid_search_ABC.fit(X_train_scaled,y_train)\n",
    "best_params=grid_search_ABC.best_params_\n",
    "print(best_params)"
   ]
  },
  {
   "cell_type": "code",
   "execution_count": null,
   "metadata": {},
   "outputs": [],
   "source": [
    "#parameter tuning using training set for Gradient Boosting\n",
    "\n",
    "parameters = {\n",
    "    \"learning_rate\": [0.01, 0.05, 0.1, 0.2],\n",
    "    \"max_depth\":[3,5,8],\n",
    "    \"max_features\":[\"log2\",\"sqrt\"],\n",
    "    \"criterion\": [\"friedman_mse\",  \"mae\"],\n",
    "    \"n_estimators\":[100,200,300]\n",
    "    }\n",
    "\n",
    "clf = GridSearchCV(GradientBoostingClassifier(), parameters, cv=3, n_jobs=-1,scoring=\"roc_auc\")\n",
    "\n",
    "clf.fit(X_train_scaled, y_train)\n",
    "print(clf.best_params_)\n"
   ]
  },
  {
   "cell_type": "code",
   "execution_count": 49,
   "metadata": {},
   "outputs": [
    {
     "name": "stdout",
     "output_type": "stream",
     "text": [
      "Classifier  BaggingClassifier(base_estimator=DecisionTreeClassifier(class_weight=None,\n",
      "                                                        criterion='gini',\n",
      "                                                        max_depth=4,\n",
      "                                                        max_features=None,\n",
      "                                                        max_leaf_nodes=15,\n",
      "                                                        min_impurity_decrease=0.0,\n",
      "                                                        min_impurity_split=None,\n",
      "                                                        min_samples_leaf=1,\n",
      "                                                        min_samples_split=2,\n",
      "                                                        min_weight_fraction_leaf=0.0,\n",
      "                                                        presort=False,\n",
      "                                                        random_state=None,\n",
      "                                                        splitter='best'),\n",
      "                  bootstrap=True, bootstrap_features=False, max_features=1.0,\n",
      "                  max_samples=1.0, n_estimators=500, n_jobs=None,\n",
      "                  oob_score=False, random_state=None, verbose=0,\n",
      "                  warm_start=False)\n",
      "              precision    recall  f1-score   support\n",
      "\n",
      "           1       1.00      0.00      0.00      1655\n",
      "           2       0.94      1.00      0.97     24274\n",
      "\n",
      "    accuracy                           0.94     25929\n",
      "   macro avg       0.97      0.50      0.48     25929\n",
      "weighted avg       0.94      0.94      0.91     25929\n",
      "\n",
      "Classifier  BalancedBaggingClassifier(base_estimator=DecisionTreeClassifier(class_weight=None,\n",
      "                                                                criterion='gini',\n",
      "                                                                max_depth=6,\n",
      "                                                                max_features=None,\n",
      "                                                                max_leaf_nodes=15,\n",
      "                                                                min_impurity_decrease=0.0,\n",
      "                                                                min_impurity_split=None,\n",
      "                                                                min_samples_leaf=1,\n",
      "                                                                min_samples_split=2,\n",
      "                                                                min_weight_fraction_leaf=0.0,\n",
      "                                                                presort=False,\n",
      "                                                                random_state=None,\n",
      "                                                                splitter='best'),\n",
      "                          bootstrap=True, bootstrap_features=False,\n",
      "                          max_features=1.0, max_samples=1.0, n_estimators=400,\n",
      "                          n_jobs=1, oob_score=False, random_state=None,\n",
      "                          ratio=None, replacement=False,\n",
      "                          sampling_strategy='auto', verbose=0,\n",
      "                          warm_start=False)\n",
      "              precision    recall  f1-score   support\n",
      "\n",
      "           1       0.18      0.88      0.31      1655\n",
      "           2       0.99      0.73      0.84     24274\n",
      "\n",
      "    accuracy                           0.74     25929\n",
      "   macro avg       0.59      0.81      0.57     25929\n",
      "weighted avg       0.94      0.74      0.81     25929\n",
      "\n",
      "Classifier  BalancedRandomForestClassifier(bootstrap=True, class_weight=None,\n",
      "                               criterion='entropy', max_depth=8,\n",
      "                               max_features='auto', max_leaf_nodes=None,\n",
      "                               min_impurity_decrease=0.0, min_samples_leaf=2,\n",
      "                               min_samples_split=2,\n",
      "                               min_weight_fraction_leaf=0.0, n_estimators=700,\n",
      "                               n_jobs=1, oob_score=False, random_state=None,\n",
      "                               replacement=False, sampling_strategy='auto',\n",
      "                               verbose=0, warm_start=False)\n",
      "              precision    recall  f1-score   support\n",
      "\n",
      "           1       0.18      0.90      0.30      1655\n",
      "           2       0.99      0.72      0.83     24274\n",
      "\n",
      "    accuracy                           0.73     25929\n",
      "   macro avg       0.58      0.81      0.56     25929\n",
      "weighted avg       0.94      0.73      0.80     25929\n",
      "\n",
      "Classifier  EasyEnsembleClassifier(base_estimator=None, n_estimators=500, n_jobs=1,\n",
      "                       random_state=None, replacement=False,\n",
      "                       sampling_strategy='auto', verbose=0, warm_start=False)\n",
      "              precision    recall  f1-score   support\n",
      "\n",
      "           1       0.19      0.89      0.31      1655\n",
      "           2       0.99      0.74      0.84     24274\n",
      "\n",
      "    accuracy                           0.75     25929\n",
      "   macro avg       0.59      0.81      0.58     25929\n",
      "weighted avg       0.94      0.75      0.81     25929\n",
      "\n",
      "Classifier  RUSBoostClassifier(algorithm='SAMME.R',\n",
      "                   base_estimator=AdaBoostClassifier(algorithm='SAMME.R',\n",
      "                                                     base_estimator=None,\n",
      "                                                     learning_rate=1.0,\n",
      "                                                     n_estimators=500,\n",
      "                                                     random_state=None),\n",
      "                   learning_rate=1.0, n_estimators=100, random_state=None,\n",
      "                   replacement=False, sampling_strategy='auto')\n",
      "              precision    recall  f1-score   support\n",
      "\n",
      "           1       0.19      0.88      0.31      1655\n",
      "           2       0.99      0.74      0.85     24274\n",
      "\n",
      "    accuracy                           0.75     25929\n",
      "   macro avg       0.59      0.81      0.58     25929\n",
      "weighted avg       0.94      0.75      0.81     25929\n",
      "\n",
      "Classifier  AdaBoostClassifier(algorithm='SAMME.R', base_estimator=None, learning_rate=1.0,\n",
      "                   n_estimators=100, random_state=None)\n",
      "              precision    recall  f1-score   support\n",
      "\n",
      "           1       0.53      0.04      0.07      1655\n",
      "           2       0.94      1.00      0.97     24274\n",
      "\n",
      "    accuracy                           0.94     25929\n",
      "   macro avg       0.73      0.52      0.52     25929\n",
      "weighted avg       0.91      0.94      0.91     25929\n",
      "\n",
      "Classifier  GradientBoostingClassifier(criterion='friedman_mse', init=None,\n",
      "                           learning_rate=0.01, loss='deviance', max_depth=5,\n",
      "                           max_features='sqrt', max_leaf_nodes=None,\n",
      "                           min_impurity_decrease=0.0, min_impurity_split=None,\n",
      "                           min_samples_leaf=1, min_samples_split=2,\n",
      "                           min_weight_fraction_leaf=0.0, n_estimators=300,\n",
      "                           n_iter_no_change=None, presort='auto',\n",
      "                           random_state=None, subsample=1.0, tol=0.0001,\n",
      "                           validation_fraction=0.1, verbose=0,\n",
      "                           warm_start=False)\n",
      "              precision    recall  f1-score   support\n",
      "\n",
      "           1       0.94      0.01      0.02      1655\n",
      "           2       0.94      1.00      0.97     24274\n",
      "\n",
      "    accuracy                           0.94     25929\n",
      "   macro avg       0.94      0.51      0.49     25929\n",
      "weighted avg       0.94      0.94      0.91     25929\n",
      "\n"
     ]
    }
   ],
   "source": [
    "base_estimator=AdaBoostClassifier(n_estimators=500)\n",
    "base_est=DecisionTreeClassifier(max_depth=6,max_leaf_nodes=15)\n",
    "# Instantiate the classfiers and make a list\n",
    "classifiers = [BaggingClassifier(DecisionTreeClassifier(max_depth= 4, max_leaf_nodes= 15), n_estimators= 500), \n",
    "               BalancedBaggingClassifier(DecisionTreeClassifier(max_depth= 6, max_leaf_nodes= 15), n_estimators= 400), \n",
    "               BalancedRandomForestClassifier(criterion='entropy', max_depth= 8, max_features= 'auto', n_estimators= 700), \n",
    "              EasyEnsembleClassifier(n_estimators= 500),\n",
    "                RUSBoostClassifier(base_estimator, n_estimators= 100),\n",
    "               AdaBoostClassifier(n_estimators=100),\n",
    "               GradientBoostingClassifier(criterion='friedman_mse', learning_rate=0.01, max_depth=5, max_features='sqrt', n_estimators=300)\n",
    "              ]\n",
    "\n",
    "# Define a result table as a DataFrame\n",
    "result_table = pd.DataFrame(columns=['classifiers', 'fpr','tpr','auc'])\n",
    "# Train the models and record the results\n",
    "for cls in classifiers:\n",
    "    feat=[]\n",
    "    model = cls.fit(X_train_scaled, y_train)\n",
    "    print(\"Classifier \",cls)\n",
    "    print(classification_report(y_test,model.predict(X_test_scaled)))\n",
    "    yproba = model.predict_proba(X_test_scaled)[::,1]\n",
    "    \n",
    "    fpr, tpr, _ = roc_curve(y_test,  yproba,pos_label=2)\n",
    "    auc = roc_auc_score(y_test, yproba)\n",
    "    \n",
    "    result_table = result_table.append({'classifiers':cls.__class__.__name__,\n",
    "                                        'fpr':fpr, \n",
    "                                        'tpr':tpr, \n",
    "                                        'auc':auc}, ignore_index=True)\n",
    "    \n",
    "    \n",
    "result_table.set_index('classifiers', inplace=True)\n"
   ]
  },
  {
   "cell_type": "code",
   "execution_count": 50,
   "metadata": {},
   "outputs": [
    {
     "data": {
      "image/png": "[encoded data removed]",
      "text/plain": [
       "<Figure size 720x720 with 1 Axes>"
      ]
     },
     "metadata": {
      "needs_background": "light"
     },
     "output_type": "display_data"
    }
   ],
   "source": [
    "fig = plt.figure(figsize=(10,10))\n",
    "\n",
    "for i in result_table.index:\n",
    "    plt.plot(result_table.loc[i]['fpr'], \n",
    "             result_table.loc[i]['tpr'], \n",
    "             label=\"{}, AUC={:.3f}\".format(i, result_table.loc[i]['auc']))\n",
    "    \n",
    "plt.plot([0,1], [0,1], color='orange', linestyle='--')\n",
    "\n",
    "plt.xticks(np.arange(0.0, 1.1, step=0.1))\n",
    "plt.xlabel(\"Flase Positive Rate\", fontsize=15)\n",
    "\n",
    "plt.yticks(np.arange(0.0, 1.1, step=0.1))\n",
    "plt.ylabel(\"True Positive Rate\", fontsize=15)\n",
    "\n",
    "plt.title('ROC Curve Analysis', fontweight='bold', fontsize=15)\n",
    "plt.legend(prop={'size':13}, loc='lower right')\n",
    "\n",
    "plt.show()"
   ]
  },
  {
   "cell_type": "markdown",
   "metadata": {},
   "source": [
    "### Feature importance using Random forest"
   ]
  },
  {
   "cell_type": "code",
   "execution_count": 51,
   "metadata": {},
   "outputs": [],
   "source": [
    "from sklearn.ensemble import RandomForestClassifier\n",
    "from sklearn.model_selection import RandomizedSearchCV\n",
    "param_grid = {\n",
    "              \"n_estimators\": list(range(1,1000)),\n",
    "             }\n",
    "\n",
    "forest = RandomForestClassifier( random_state=42)"
   ]
  },
  {
   "cell_type": "code",
   "execution_count": 52,
   "metadata": {},
   "outputs": [],
   "source": [
    "rand_for = RandomizedSearchCV(forest, param_grid, scoring = 'accuracy', n_iter=20, random_state=42)\n",
    "_ = rand_for.fit(X_train_scaled,y_train)"
   ]
  },
  {
   "cell_type": "code",
   "execution_count": 53,
   "metadata": {},
   "outputs": [
    {
     "name": "stdout",
     "output_type": "stream",
     "text": [
      "0) Waist.Circumference 0.2810148405143613\n",
      "1) BMI 0.2807168464371853\n",
      "2) Age 0.2560168603045083\n",
      "3) Marital.Status_5 0.0174742959430976\n",
      "4) Marital.Status_1 0.012596607104850091\n",
      "5) Ethnicity_3 0.01143870340284059\n",
      "6) Education.adult._4 0.011238272585874565\n",
      "7) Education.adult._3 0.011140896001939812\n",
      "8) Education.adult._2 0.010632983394278279\n",
      "9) Ethnicity_4 0.010327952352329363\n",
      "10) Gender_2 0.01024671733148843\n",
      "11) Gender_1 0.01019597542815819\n",
      "12) Education.adult._1 0.009980733061378642\n",
      "13) Education.adult._5 0.008974806146351188\n",
      "14) Marital.Status_2 0.008860413978338472\n",
      "15) Ethnicity_1 0.008639138161895548\n",
      "16) Marital.Status_3 0.008361604605326412\n",
      "17) Ethnicity_2 0.007211477036567838\n",
      "18) Ethnicity_5 0.006641034763458754\n",
      "19) Marital.Status_6 0.004883327272416641\n",
      "20) Marital.Status_4 0.00469731412007363\n",
      "21) Retinopathy_9 0.0036984813415089995\n",
      "22) Retinopathy_2 0.0036227571319261357\n",
      "23) Education.adult._9 0.0005361045687138466\n",
      "24) Marital.Status_77 0.00042176780338718103\n",
      "25) Education.adult._7 0.00023333508587652184\n",
      "26) Marital.Status_99 0.00014969996003662996\n",
      "27) Retinopathy_7 4.705416183154137e-05\n"
     ]
    }
   ],
   "source": [
    "importances = rand_for.best_estimator_.feature_importances_\n",
    "indices = np.argsort(importances)[::-1]\n",
    "for f in range(X_train_scaled.shape[1]):\n",
    "    print(\"{}) {} {}\".format(f, X_train.columns[indices[f]], importances[indices[f]]))\n"
   ]
  },
  {
   "cell_type": "code",
   "execution_count": 54,
   "metadata": {},
   "outputs": [
    {
     "data": {
      "image/png": "[encoded data removed]",
      "text/plain": [
       "<Figure size 576x576 with 1 Axes>"
      ]
     },
     "metadata": {
      "needs_background": "light"
     },
     "output_type": "display_data"
    }
   ],
   "source": [
    "plt.figure(figsize=(8,8))\n",
    "plt.title('Feature Importances')\n",
    "plt.bar(range(X_train.shape[1]), importances[indices], color='lightblue', align='center')\n",
    "plt.xticks(range(X_train.shape[1]), X_train.columns[indices], rotation=90)\n",
    "plt.xlim([-1, X_train.shape[1]])\n",
    "plt.tight_layout()"
   ]
  },
  {
   "cell_type": "markdown",
   "metadata": {},
   "source": [
    "### Oversampling\n",
    "### 1. Random Oversampler\n",
    "### 2. SMOTE"
   ]
  },
  {
   "cell_type": "code",
   "execution_count": 17,
   "metadata": {},
   "outputs": [],
   "source": [
    "rus=RandomOverSampler(random_state=0)\n",
    "sm = SMOTE(random_state=2)\n",
    "X_train_sm, y_train_sm = sm.fit_sample(X_train_scaled, y_train.ravel())\n",
    "X_train_ros,y_train_ros=rus.fit_sample(X_train_scaled,y_train.ravel())\n"
   ]
  },
  {
   "cell_type": "markdown",
   "metadata": {},
   "source": [
    "### Parameter tuning on the oversampled training data"
   ]
  },
  {
   "cell_type": "code",
   "execution_count": null,
   "metadata": {},
   "outputs": [
    {
     "name": "stdout",
     "output_type": "stream",
     "text": [
      "SVM smote params\n",
      "\n",
      "{'C': 1000, 'gamma': 1, 'kernel': 'rbf'}\n"
     ]
    }
   ],
   "source": [
    "#SVM\n",
    "#tuning parameters for SVM\n",
    "param_grid = {'C': [0.1, 1, 10, 100, 1000],  \n",
    "              'gamma': [1, 0.1, 0.01, 0.001, 0.0001], \n",
    "              'kernel': ['rbf','linear']}  \n",
    "  \n",
    "grid_svm = GridSearchCV(SVC(), param_grid) \n",
    "  \n",
    "# fitting the model for grid search \n",
    "svm_sm=grid_svm.fit(X_train_sm, y_train_sm) \n",
    "print('SVM smote params\\n')\n",
    "print(svm_sm.best_params_)\n",
    "\n",
    "\n",
    "\n"
   ]
  },
  {
   "cell_type": "code",
   "execution_count": null,
   "metadata": {},
   "outputs": [],
   "source": [
    "#RF\n",
    "param_grid = {\n",
    "    'bootstrap': [True],\n",
    "    'max_depth': [80, 90, 100, 110],\n",
    "    'max_features': [2, 3],\n",
    "    'min_samples_leaf': [3, 4, 5],\n",
    "    'min_samples_split': [8, 10, 12],\n",
    "    'n_estimators': [100, 200, 300, 1000]\n",
    "}\n",
    "grid_rf = GridSearchCV(RandomForestClassifier(), param_grid) \n",
    "rf_sm=grid_rf.fit(X_train_sm, y_train_sm) \n",
    "print('RF smote params\\n')\n",
    "print(rf_sm.best_params_)\n"
   ]
  },
  {
   "cell_type": "code",
   "execution_count": null,
   "metadata": {},
   "outputs": [],
   "source": [
    "# Logit\n",
    "penalty = ['l1', 'l2']\n",
    "\n",
    "# Create regularization hyperparameter space\n",
    "C = np.logspace(0, 4, 10)\n",
    "\n",
    "# Create hyperparameter options\n",
    "hyperparameters = dict(C=C, penalty=penalty)\n",
    "grid_lr = GridSearchCV(LogisticRegression(), hyperparameters)\n",
    "lr_sm=grid_lr.fit(X_train_sm, y_train_sm) \n",
    "print('Logit smote params\\n')\n",
    "print(lr_sm.best_params_)\n",
    "\n"
   ]
  },
  {
   "cell_type": "code",
   "execution_count": null,
   "metadata": {},
   "outputs": [],
   "source": [
    "#DT\n",
    "parameters={'min_samples_split' : range(10,500,20),'max_depth': range(1,20,2)}\n",
    "grid_dt = GridSearchCV(DecisionTreeClassifier(class_weight='balanced'), parameters)\n",
    "dt_sm=grid_dt.fit(X_train_sm,y_train_sm)\n",
    "print('DT smote params\\n')\n",
    "print(dt_sm.best_params_)\n",
    "\n"
   ]
  },
  {
   "cell_type": "code",
   "execution_count": null,
   "metadata": {},
   "outputs": [],
   "source": [
    "#Multilayer perceptron\n",
    "parameter_space = {\n",
    "    'hidden_layer_sizes': [(50,50), (50,100), (100,)],\n",
    "    'activation': ['tanh', 'relu'],\n",
    "    'solver': ['sgd', 'adam'],\n",
    "    'alpha': [0.0001, 0.05],\n",
    "    'learning_rate': ['constant','adaptive'],\n",
    "}\n",
    "grid_mlp = GridSearchCV(MLPClassifier(), parameter_space)\n",
    "mlp_sm=grid_mlp.fit(X_train_sm,y_train_sm)\n",
    "print('MLP smote params\\n')\n",
    "print(mlp_sm.best_params_)\n"
   ]
  },
  {
   "cell_type": "markdown",
   "metadata": {},
   "source": [
    "### Training the classifiers on the oversampled data (ROS) with the tuned parameters"
   ]
  },
  {
   "cell_type": "code",
   "execution_count": null,
   "metadata": {},
   "outputs": [],
   "source": [
    "# Instantiate the classfiers and make a list\n",
    "classifiers = [ SVC(C= 1000, gamma= 1, kernel= 'rbf',probability=True),\n",
    "               RandomForestClassifier(bootstrap= True, max_depth=110, max_features=3, min_samples_leaf=3, min_samples_split=8, n_estimators= 300),\n",
    "               LogisticRegression(C= 1.0, penalty= 'l1'),\n",
    "               DecisionTreeClassifier(max_depth= 19, min_samples_split= 10),\n",
    "               MLPClassifier(activation='relu', alpha=0.0001, hidden_layer_sizes=(50, 100), learning_rate='adaptive', solver='adam')\n",
    "               \n",
    "    \n",
    "]\n",
    "\n",
    "# Define a result table as a DataFrame\n",
    "result_table = pd.DataFrame(columns=['classifiers', 'fpr','tpr','auc'])\n",
    "# Train the models and record the results\n",
    "for cls in classifiers:\n",
    "    feat=[]\n",
    "    model = cls.fit(X_train_ros, y_train_ros)\n",
    "    print(\"Classifier \",cls)\n",
    "    print(classification_report(y_test,model.predict(X_test_scaled)))\n",
    "    yproba = model.predict_proba(X_test_scaled)[::,1]\n",
    "    \n",
    "    fpr, tpr, _ = roc_curve(y_test,  yproba,pos_label=2)\n",
    "    auc = roc_auc_score(y_test, yproba)\n",
    "    \n",
    "    result_table = result_table.append({'classifiers':cls.__class__.__name__,\n",
    "                                        'fpr':fpr, \n",
    "                                        'tpr':tpr, \n",
    "                                        'auc':auc}, ignore_index=True)\n",
    "    \n",
    "    \n",
    "result_table.set_index('classifiers', inplace=True)\n"
   ]
  },
  {
   "cell_type": "code",
   "execution_count": null,
   "metadata": {},
   "outputs": [],
   "source": [
    "fig = plt.figure(figsize=(10,10))\n",
    "\n",
    "for i in result_table.index:\n",
    "    plt.plot(result_table.loc[i]['fpr'], \n",
    "             result_table.loc[i]['tpr'], \n",
    "             label=\"{}, AUC={:.3f}\".format(i, result_table.loc[i]['auc']))\n",
    "    \n",
    "plt.plot([0,1], [0,1], color='orange', linestyle='--')\n",
    "\n",
    "plt.xticks(np.arange(0.0, 1.1, step=0.1))\n",
    "plt.xlabel(\"Flase Positive Rate\", fontsize=15)\n",
    "\n",
    "plt.yticks(np.arange(0.0, 1.1, step=0.1))\n",
    "plt.ylabel(\"True Positive Rate\", fontsize=15)\n",
    "\n",
    "plt.title('ROC Curve Analysis', fontweight='bold', fontsize=15)\n",
    "plt.legend(prop={'size':13}, loc='lower right')\n",
    "\n",
    "plt.show()"
   ]
  },
  {
   "cell_type": "markdown",
   "metadata": {},
   "source": [
    "### Training the classifiers on the oversampled data (SMOTE) with the tuned parameters"
   ]
  },
  {
   "cell_type": "code",
   "execution_count": null,
   "metadata": {},
   "outputs": [],
   "source": [
    "# Instantiate the classfiers and make a list\n",
    "classifiers = [ SVC(C= 1000, gamma= 1, kernel= 'rbf',probability=True),\n",
    "               RandomForestClassifier(bootstrap= True, max_depth=110, max_features=3, min_samples_leaf=3, min_samples_split=8, n_estimators= 300),\n",
    "               LogisticRegression(C= 1.0, penalty= 'l1'),\n",
    "               DecisionTreeClassifier(max_depth= 19, min_samples_split= 10),\n",
    "               MLPClassifier(activation='relu', alpha=0.0001, hidden_layer_sizes=(50, 100), learning_rate='adaptive', solver='adam')\n",
    "               \n",
    "    \n",
    "]\n",
    "\n",
    "# Define a result table as a DataFrame\n",
    "result_table = pd.DataFrame(columns=['classifiers', 'fpr','tpr','auc'])\n",
    "# Train the models and record the results\n",
    "for cls in classifiers:\n",
    "    feat=[]\n",
    "    model = cls.fit(X_train_sm, y_train_sm)\n",
    "    print(\"Classifier \",cls)\n",
    "    print(classification_report(y_test,model.predict(X_test_scaled)))\n",
    "    yproba = model.predict_proba(X_test_scaled)[::,1]\n",
    "    \n",
    "    fpr, tpr, _ = roc_curve(y_test,  yproba,pos_label=2)\n",
    "    auc = roc_auc_score(y_test, yproba)\n",
    "    \n",
    "    result_table = result_table.append({'classifiers':cls.__class__.__name__,\n",
    "                                        'fpr':fpr, \n",
    "                                        'tpr':tpr, \n",
    "                                        'auc':auc}, ignore_index=True)\n",
    "    \n",
    "    \n",
    "result_table.set_index('classifiers', inplace=True)"
   ]
  },
  {
   "cell_type": "code",
   "execution_count": null,
   "metadata": {},
   "outputs": [],
   "source": [
    "fig = plt.figure(figsize=(10,10))\n",
    "\n",
    "for i in result_table.index:\n",
    "    plt.plot(result_table.loc[i]['fpr'], \n",
    "             result_table.loc[i]['tpr'], \n",
    "             label=\"{}, AUC={:.3f}\".format(i, result_table.loc[i]['auc']))\n",
    "    \n",
    "plt.plot([0,1], [0,1], color='orange', linestyle='--')\n",
    "\n",
    "plt.xticks(np.arange(0.0, 1.1, step=0.1))\n",
    "plt.xlabel(\"Flase Positive Rate\", fontsize=15)\n",
    "\n",
    "plt.yticks(np.arange(0.0, 1.1, step=0.1))\n",
    "plt.ylabel(\"True Positive Rate\", fontsize=15)\n",
    "\n",
    "plt.title('ROC Curve Analysis', fontweight='bold', fontsize=15)\n",
    "plt.legend(prop={'size':13}, loc='lower right')\n",
    "\n",
    "plt.show()"
   ]
  },
  {
   "cell_type": "markdown",
   "metadata": {},
   "source": [
    "### Undersampling"
   ]
  },
  {
   "cell_type": "code",
   "execution_count": 58,
   "metadata": {},
   "outputs": [],
   "source": [
    "from imblearn.under_sampling import RandomUnderSampler\n",
    "cc = RandomUnderSampler(random_state=42,replacement=True)\n",
    "X_rus, y_rus = cc.fit_resample(X_train_scaled, y_train.ravel())"
   ]
  },
  {
   "cell_type": "markdown",
   "metadata": {},
   "source": [
    "### Parameter tuning on the undersampled training data"
   ]
  },
  {
   "cell_type": "code",
   "execution_count": null,
   "metadata": {},
   "outputs": [],
   "source": [
    "#SVM\n",
    "#tuning parameters for SVM\n",
    "param_grid = {'C': [0.1, 1, 10, 100, 1000],  \n",
    "              'gamma': [1, 0.1, 0.01, 0.001, 0.0001], \n",
    "              'kernel': ['rbf','linear']}  \n",
    "  \n",
    "grid_svm = GridSearchCV(SVC(), param_grid) \n",
    "  \n",
    "# fitting the model for grid search \n",
    "svm_rus=grid_svm.fit(X_rus, y_rus) \n",
    "print('SVM rus params\\n')\n",
    "print(svm_rus.best_params_)\n",
    "\n"
   ]
  },
  {
   "cell_type": "code",
   "execution_count": null,
   "metadata": {},
   "outputs": [],
   "source": [
    "#RF\n",
    "param_grid = {\n",
    "    'bootstrap': [True],\n",
    "    'max_depth': [80, 90, 100, 110],\n",
    "    'max_features': [2, 3],\n",
    "    'min_samples_leaf': [3, 4, 5],\n",
    "    'min_samples_split': [8, 10, 12],\n",
    "    'n_estimators': [100, 200, 300, 1000]\n",
    "}\n",
    "grid_rf = GridSearchCV(RandomForestClassifier(), param_grid) \n",
    "rf_rus=grid_rf.fit(X_rus, y_rus) \n",
    "print('RF rus params\\n')\n",
    "print(rf_rus.best_params_)\n"
   ]
  },
  {
   "cell_type": "code",
   "execution_count": null,
   "metadata": {},
   "outputs": [],
   "source": [
    "# Logit\n",
    "penalty = ['l1', 'l2']\n",
    "\n",
    "# Create regularization hyperparameter space\n",
    "C = np.logspace(0, 4, 10)\n",
    "\n",
    "# Create hyperparameter options\n",
    "hyperparameters = dict(C=C, penalty=penalty)\n",
    "grid_lr = GridSearchCV(LogisticRegression(), hyperparameters)\n",
    "lr_rus=grid_lr.fit(X_rus, y_rus) \n",
    "print('Logit rus params\\n')\n",
    "print(lr_rus.best_params_)"
   ]
  },
  {
   "cell_type": "code",
   "execution_count": null,
   "metadata": {},
   "outputs": [],
   "source": [
    "#DT\n",
    "parameters={'min_samples_split' : range(10,500,20),'max_depth': range(1,20,2)}\n",
    "grid_dt = GridSearchCV(DecisionTreeClassifier(class_weight='balanced'), parameters)\n",
    "dt_rus=grid_dt.fit(X_rus,y_rus)\n",
    "print('DT rus params\\n')\n",
    "print(dt_rus.best_params_)\n"
   ]
  },
  {
   "cell_type": "code",
   "execution_count": null,
   "metadata": {},
   "outputs": [],
   "source": [
    "#Multilayer perceptron\n",
    "parameter_space = {\n",
    "    'hidden_layer_sizes': [(50,50), (50,100), (100,)],\n",
    "    'activation': ['tanh', 'relu'],\n",
    "    'solver': ['sgd', 'adam'],\n",
    "    'alpha': [0.0001, 0.05],\n",
    "    'learning_rate': ['constant','adaptive'],\n",
    "}\n",
    "grid_mlp = GridSearchCV(MLPClassifier(), parameter_space)\n",
    "mlp_rus=grid_mlp.fit(X_rus,y_rus)\n",
    "print('MLP rus params\\n')\n",
    "print(mlp_rus.best_params_)\n"
   ]
  },
  {
   "cell_type": "markdown",
   "metadata": {},
   "source": [
    "### Training the classifiers on the undersampled data"
   ]
  },
  {
   "cell_type": "code",
   "execution_count": null,
   "metadata": {},
   "outputs": [],
   "source": [
    "# Instantiate the classfiers and make a list\n",
    "classifiers = [ SVC(),\n",
    "               RandomForestClassifier(),\n",
    "               LogisticRegression(),\n",
    "               DecisionTreeClassifier(),\n",
    "               MLPClassifier()\n",
    "               \n",
    "    \n",
    "]\n",
    "\n",
    "# Define a result table as a DataFrame\n",
    "result_table = pd.DataFrame(columns=['classifiers', 'fpr','tpr','auc'])\n",
    "# Train the models and record the results\n",
    "for cls in classifiers:\n",
    "    feat=[]\n",
    "    model = cls.fit(X_train_ros, y_train_ros)\n",
    "    print(\"Classifier \",cls)\n",
    "    print(classification_report(y_test,model.predict(X_test_scaled)))\n",
    "    yproba = model.predict_proba(X_test_scaled)[::,1]\n",
    "    \n",
    "    fpr, tpr, _ = roc_curve(y_test,  yproba,pos_label=2)\n",
    "    auc = roc_auc_score(y_test, yproba)\n",
    "    \n",
    "    result_table = result_table.append({'classifiers':cls.__class__.__name__,\n",
    "                                        'fpr':fpr, \n",
    "                                        'tpr':tpr, \n",
    "                                        'auc':auc}, ignore_index=True)\n",
    "    \n",
    "    \n",
    "result_table.set_index('classifiers', inplace=True)\n"
   ]
  },
  {
   "cell_type": "code",
   "execution_count": null,
   "metadata": {},
   "outputs": [],
   "source": [
    "fig = plt.figure(figsize=(10,10))\n",
    "\n",
    "for i in result_table.index:\n",
    "    plt.plot(result_table.loc[i]['fpr'], \n",
    "             result_table.loc[i]['tpr'], \n",
    "             label=\"{}, AUC={:.3f}\".format(i, result_table.loc[i]['auc']))\n",
    "    \n",
    "plt.plot([0,1], [0,1], color='orange', linestyle='--')\n",
    "\n",
    "plt.xticks(np.arange(0.0, 1.1, step=0.1))\n",
    "plt.xlabel(\"Flase Positive Rate\", fontsize=15)\n",
    "\n",
    "plt.yticks(np.arange(0.0, 1.1, step=0.1))\n",
    "plt.ylabel(\"True Positive Rate\", fontsize=15)\n",
    "\n",
    "plt.title('ROC Curve Analysis', fontweight='bold', fontsize=15)\n",
    "plt.legend(prop={'size':13}, loc='lower right')\n",
    "\n",
    "plt.show()"
   ]
  }
 ],
 "metadata": {
  "kernelspec": {
   "display_name": "Python 3",
   "language": "python",
   "name": "python3"
  },
  "language_info": {
   "codemirror_mode": {
    "name": "ipython",
    "version": 3
   },
   "file_extension": ".py",
   "mimetype": "text/x-python",
   "name": "python",
   "nbconvert_exporter": "python",
   "pygments_lexer": "ipython3",
   "version": "3.6.8"
  }
 },
 "nbformat": 4,
 "nbformat_minor": 2
}
